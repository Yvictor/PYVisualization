{
 "cells": [
  {
   "cell_type": "code",
   "execution_count": 529,
   "metadata": {
    "collapsed": true
   },
   "outputs": [],
   "source": [
    "import pandas as pd\n",
    "%matplotlib inline\n",
    "import matplotlib.pyplot as plt\n",
    "import ipywidgets\n",
    "plt.style.use('ggplot')"
   ]
  },
  {
   "cell_type": "code",
   "execution_count": 108,
   "metadata": {
    "collapsed": true
   },
   "outputs": [],
   "source": [
    "df = pd.read_csv('datasets/VIP_ALL.csv', converters={\"TDATE\": str, \"TIME\": str})"
   ]
  },
  {
   "cell_type": "code",
   "execution_count": 227,
   "metadata": {
    "collapsed": true
   },
   "outputs": [],
   "source": [
    "df['datetime'] = pd.to_datetime(df['TDATE'] + df['TIME'])"
   ]
  },
  {
   "cell_type": "code",
   "execution_count": 127,
   "metadata": {},
   "outputs": [
    {
     "data": {
      "text/html": [
       "<div>\n",
       "<style scoped>\n",
       "    .dataframe tbody tr th:only-of-type {\n",
       "        vertical-align: middle;\n",
       "    }\n",
       "\n",
       "    .dataframe tbody tr th {\n",
       "        vertical-align: top;\n",
       "    }\n",
       "\n",
       "    .dataframe thead th {\n",
       "        text-align: right;\n",
       "    }\n",
       "</style>\n",
       "<table border=\"1\" class=\"dataframe\">\n",
       "  <thead>\n",
       "    <tr style=\"text-align: right;\">\n",
       "      <th></th>\n",
       "      <th>TDATE</th>\n",
       "      <th>TIME</th>\n",
       "      <th>VOL</th>\n",
       "      <th>NVL(B.CNT,0)</th>\n",
       "      <th>datetime</th>\n",
       "    </tr>\n",
       "  </thead>\n",
       "  <tbody>\n",
       "    <tr>\n",
       "      <th>0</th>\n",
       "      <td>20180102</td>\n",
       "      <td>0846</td>\n",
       "      <td>1956</td>\n",
       "      <td>0.0</td>\n",
       "      <td>2018-01-02 08:46:00</td>\n",
       "    </tr>\n",
       "    <tr>\n",
       "      <th>1</th>\n",
       "      <td>20180102</td>\n",
       "      <td>0847</td>\n",
       "      <td>1305</td>\n",
       "      <td>0.0</td>\n",
       "      <td>2018-01-02 08:47:00</td>\n",
       "    </tr>\n",
       "    <tr>\n",
       "      <th>2</th>\n",
       "      <td>20180102</td>\n",
       "      <td>0848</td>\n",
       "      <td>409</td>\n",
       "      <td>0.0</td>\n",
       "      <td>2018-01-02 08:48:00</td>\n",
       "    </tr>\n",
       "    <tr>\n",
       "      <th>3</th>\n",
       "      <td>20180102</td>\n",
       "      <td>0849</td>\n",
       "      <td>339</td>\n",
       "      <td>0.0</td>\n",
       "      <td>2018-01-02 08:49:00</td>\n",
       "    </tr>\n",
       "    <tr>\n",
       "      <th>4</th>\n",
       "      <td>20180102</td>\n",
       "      <td>0850</td>\n",
       "      <td>545</td>\n",
       "      <td>0.0</td>\n",
       "      <td>2018-01-02 08:50:00</td>\n",
       "    </tr>\n",
       "  </tbody>\n",
       "</table>\n",
       "</div>"
      ],
      "text/plain": [
       "      TDATE  TIME   VOL  NVL(B.CNT,0)            datetime\n",
       "0  20180102  0846  1956           0.0 2018-01-02 08:46:00\n",
       "1  20180102  0847  1305           0.0 2018-01-02 08:47:00\n",
       "2  20180102  0848   409           0.0 2018-01-02 08:48:00\n",
       "3  20180102  0849   339           0.0 2018-01-02 08:49:00\n",
       "4  20180102  0850   545           0.0 2018-01-02 08:50:00"
      ]
     },
     "execution_count": 127,
     "metadata": {},
     "output_type": "execute_result"
    }
   ],
   "source": [
    "df.head()"
   ]
  },
  {
   "cell_type": "code",
   "execution_count": 244,
   "metadata": {
    "collapsed": true
   },
   "outputs": [],
   "source": [
    "df['VOLMA'] = df['VOL'].rolling(window=20).mean()"
   ]
  },
  {
   "cell_type": "code",
   "execution_count": 245,
   "metadata": {
    "collapsed": true
   },
   "outputs": [],
   "source": [
    "df['NVL(B.CNT,0)'] = df['NVL(B.CNT,0)'].map(lambda x: x if x>0 else None)"
   ]
  },
  {
   "cell_type": "code",
   "execution_count": 126,
   "metadata": {
    "collapsed": true
   },
   "outputs": [],
   "source": [
    "#df['NVL(B.CNT,0)'] = df['NVL(B.CNT,0)'].fillna(0)"
   ]
  },
  {
   "cell_type": "code",
   "execution_count": 307,
   "metadata": {},
   "outputs": [
    {
     "data": {
      "text/plain": [
       "['2018-01-03', '2018-03-15', '2018-03-16']"
      ]
     },
     "execution_count": 307,
     "metadata": {},
     "output_type": "execute_result"
    }
   ],
   "source": [
    "excepts_dt = ['2018-01-03 12:02', '2018-01-03 12:01', '2018-01-03 12:30', '2018-03-15 9:10', '2018-03-15 9:18',\n",
    "              '2018-03-15 9:24', '2018-03-16 9:22']#, '2018-04-24 9:52']\n",
    "except_dates = sorted(list(set([dt[:10] for dt in  excepts_dt])))\n",
    "except_dates"
   ]
  },
  {
   "cell_type": "code",
   "execution_count": 308,
   "metadata": {
    "collapsed": true
   },
   "outputs": [],
   "source": [
    "df_timeseties = df.set_index('datetime')#\n",
    "for ex_dt in excepts_dt:\n",
    "    df_timeseties.loc[ex_dt, 'EXCEPT'] = '1'\n",
    "df_timeseties.index = pd.to_datetime(df_timeseties.index)"
   ]
  },
  {
   "cell_type": "code",
   "execution_count": 213,
   "metadata": {
    "collapsed": true
   },
   "outputs": [],
   "source": [
    "date_range = [str(d) for d in df.datetime.map(lambda x: x.date()).unique()]"
   ]
  },
  {
   "cell_type": "code",
   "execution_count": 214,
   "metadata": {
    "collapsed": true
   },
   "outputs": [],
   "source": [
    "date_map = dict()\n",
    "for ind, d in enumerate(df.datetime.map(lambda x: x.date()).unique()):\n",
    "    date_map[ind] = str(d)"
   ]
  },
  {
   "cell_type": "code",
   "execution_count": 215,
   "metadata": {
    "collapsed": true
   },
   "outputs": [],
   "source": [
    "def plot_with_date(start_d, end_d, x_type='date'):\n",
    "    if x_type == 'date':\n",
    "        df_session = df.set_index('datetime')[start_d: end_d]\n",
    "    else:\n",
    "        df_session = df.set_index('datetime')[start_d: end_d].reset_index()\n",
    "    fig, ax = plt.subplots(1)\n",
    "    title = start_d + '~' + end_d\n",
    "    df_session[['VOL', 'VOLMA']].plot(ax=ax, figsize=(15, 8), title=title)\n",
    "    df_session[['NVL(B.CNT,0)']].plot(ax=ax, marker='o', linestyle=':', secondary_y=True)"
   ]
  },
  {
   "cell_type": "code",
   "execution_count": 547,
   "metadata": {
    "collapsed": true
   },
   "outputs": [],
   "source": [
    "def plot_with_single_date(start_d, x_type='date'):\n",
    "    df_session = df_timeseties[start_d]\n",
    "    if x_type != 'date':\n",
    "        df_session.reset_index(inplace=True)\n",
    "    fig, ax = plt.subplots(1)\n",
    "    title = start_d\n",
    "    df_session[['VOL', 'VOLMA']].plot(ax=ax, figsize=(15, 8), title=title)\n",
    "    df_session[['NVL(B.CNT,0)']].plot(ax=ax, marker='o', linestyle=':', secondary_y=True)\n",
    "    excepts = df_session.dropna(subset=['EXCEPT'])['VOL']\n",
    "    for ex_time, vol in zip(excepts.index, excepts):\n",
    "        ax.axvline(ex_time, color='darkslateblue', linestyle='-.', lw=1.)\n",
    "        ax.axhline(vol, color='darkslateblue', linestyle='-.', lw=1.)\n",
    "        ax.scatter(x=ex_time, y=vol, c='darkslateblue', marker='d', s=80)"
   ]
  },
  {
   "cell_type": "code",
   "execution_count": 216,
   "metadata": {
    "collapsed": true
   },
   "outputs": [],
   "source": [
    "def plot_range(start_d, d_range, x_type='date'):\n",
    "    if x_type == 'date':\n",
    "        df_session = df.set_index('datetime')[date_map[start_d]: date_map[start_d + d_range]]\n",
    "    else:\n",
    "        df_session = df.set_index('datetime')[date_map[start_d]: date_map[start_d + d_range]].reset_index()\n",
    "    fig, ax = plt.subplots(1)\n",
    "    title = date_map[start_d] + '~' + date_map[start_d + d_range]\n",
    "    df_session[['VOL', 'VOLMA']].plot(ax=ax, figsize=(15, 8), title=title)\n",
    "    df_session[['NVL(B.CNT,0)']].plot(ax=ax, marker='o', linestyle=':', secondary_y=True)"
   ]
  },
  {
   "cell_type": "code",
   "execution_count": 530,
   "metadata": {},
   "outputs": [
    {
     "data": {
      "application/vnd.jupyter.widget-view+json": {
       "model_id": "c3ac7e262875471287818414e299f7c1",
       "version_major": 2,
       "version_minor": 0
      },
      "text/html": [
       "<p>Failed to display Jupyter Widget of type <code>interactive</code>.</p>\n",
       "<p>\n",
       "  If you're reading this message in the Jupyter Notebook or JupyterLab Notebook, it may mean\n",
       "  that the widgets JavaScript is still loading. If this message persists, it\n",
       "  likely means that the widgets JavaScript library is either not installed or\n",
       "  not enabled. See the <a href=\"https://ipywidgets.readthedocs.io/en/stable/user_install.html\">Jupyter\n",
       "  Widgets Documentation</a> for setup instructions.\n",
       "</p>\n",
       "<p>\n",
       "  If you're reading this message in another frontend (for example, a static\n",
       "  rendering on GitHub or <a href=\"https://nbviewer.jupyter.org/\">NBViewer</a>),\n",
       "  it may mean that your frontend doesn't currently support widgets.\n",
       "</p>\n"
      ],
      "text/plain": [
       "interactive(children=(IntSlider(value=1, description='start_d', max=68), IntSlider(value=0, description='d_range', max=30), Dropdown(description='x_type', index=1, options=('point', 'date'), value='date'), Output()), _dom_classes=('widget-interact',))"
      ]
     },
     "metadata": {},
     "output_type": "display_data"
    },
    {
     "data": {
      "text/plain": [
       "<function __main__.plot_range>"
      ]
     },
     "execution_count": 530,
     "metadata": {},
     "output_type": "execute_result"
    }
   ],
   "source": [
    "ipywidgets.interact(plot_range, \n",
    "                    start_d=ipywidgets.IntSlider(1, min=0, max=len(date_range)), \n",
    "                    d_range=ipywidgets.IntSlider(0, min=0, max=30),\n",
    "                    x_type=['point', 'date'])"
   ]
  },
  {
   "cell_type": "code",
   "execution_count": 531,
   "metadata": {},
   "outputs": [
    {
     "data": {
      "application/vnd.jupyter.widget-view+json": {
       "model_id": "52bbfc87fb6f4ef789b1b8600c7e522f",
       "version_major": 2,
       "version_minor": 0
      },
      "text/html": [
       "<p>Failed to display Jupyter Widget of type <code>interactive</code>.</p>\n",
       "<p>\n",
       "  If you're reading this message in the Jupyter Notebook or JupyterLab Notebook, it may mean\n",
       "  that the widgets JavaScript is still loading. If this message persists, it\n",
       "  likely means that the widgets JavaScript library is either not installed or\n",
       "  not enabled. See the <a href=\"https://ipywidgets.readthedocs.io/en/stable/user_install.html\">Jupyter\n",
       "  Widgets Documentation</a> for setup instructions.\n",
       "</p>\n",
       "<p>\n",
       "  If you're reading this message in another frontend (for example, a static\n",
       "  rendering on GitHub or <a href=\"https://nbviewer.jupyter.org/\">NBViewer</a>),\n",
       "  it may mean that your frontend doesn't currently support widgets.\n",
       "</p>\n"
      ],
      "text/plain": [
       "interactive(children=(Dropdown(description='start_d', options=('2018-01-02', '2018-01-03', '2018-01-04', '2018-01-05', '2018-01-08', '2018-01-09', '2018-01-10', '2018-01-11', '2018-01-12', '2018-01-15', '2018-01-16', '2018-01-17', '2018-01-18', '2018-01-19', '2018-01-22', '2018-01-23', '2018-01-24', '2018-01-25', '2018-01-26', '2018-01-29', '2018-01-30', '2018-01-31', '2018-02-01', '2018-02-02', '2018-02-05', '2018-02-06', '2018-02-07', '2018-02-08', '2018-02-09', '2018-02-12', '2018-02-21', '2018-02-22', '2018-02-23', '2018-02-26', '2018-02-27', '2018-03-01', '2018-03-02', '2018-03-05', '2018-03-06', '2018-03-07', '2018-03-08', '2018-03-09', '2018-03-12', '2018-03-13', '2018-03-14', '2018-03-15', '2018-03-16', '2018-03-19', '2018-03-20', '2018-03-21', '2018-03-22', '2018-03-23', '2018-03-26', '2018-03-27', '2018-03-28', '2018-03-29', '2018-03-30', '2018-03-31', '2018-04-02', '2018-04-03', '2018-04-09', '2018-04-10', '2018-04-11', '2018-04-12', '2018-04-13', '2018-04-16', '2018-04-17', '2018-04-18'), value='2018-01-02'), Dropdown(description='end_d', options=('2018-01-02', '2018-01-03', '2018-01-04', '2018-01-05', '2018-01-08', '2018-01-09', '2018-01-10', '2018-01-11', '2018-01-12', '2018-01-15', '2018-01-16', '2018-01-17', '2018-01-18', '2018-01-19', '2018-01-22', '2018-01-23', '2018-01-24', '2018-01-25', '2018-01-26', '2018-01-29', '2018-01-30', '2018-01-31', '2018-02-01', '2018-02-02', '2018-02-05', '2018-02-06', '2018-02-07', '2018-02-08', '2018-02-09', '2018-02-12', '2018-02-21', '2018-02-22', '2018-02-23', '2018-02-26', '2018-02-27', '2018-03-01', '2018-03-02', '2018-03-05', '2018-03-06', '2018-03-07', '2018-03-08', '2018-03-09', '2018-03-12', '2018-03-13', '2018-03-14', '2018-03-15', '2018-03-16', '2018-03-19', '2018-03-20', '2018-03-21', '2018-03-22', '2018-03-23', '2018-03-26', '2018-03-27', '2018-03-28', '2018-03-29', '2018-03-30', '2018-03-31', '2018-04-02', '2018-04-03', '2018-04-09', '2018-04-10', '2018-04-11', '2018-04-12', '2018-04-13', '2018-04-16', '2018-04-17', '2018-04-18'), value='2018-01-02'), Dropdown(description='x_type', index=1, options=('point', 'date'), value='date'), Output()), _dom_classes=('widget-interact',))"
      ]
     },
     "metadata": {},
     "output_type": "display_data"
    },
    {
     "data": {
      "text/plain": [
       "<function __main__.plot_with_date>"
      ]
     },
     "execution_count": 531,
     "metadata": {},
     "output_type": "execute_result"
    }
   ],
   "source": [
    "ipywidgets.interact(plot_with_date, \n",
    "                    start_d=date_range, \n",
    "                    end_d=date_range,\n",
    "                    x_type=['point', 'date'])"
   ]
  },
  {
   "cell_type": "code",
   "execution_count": 549,
   "metadata": {},
   "outputs": [
    {
     "data": {
      "text/plain": [
       "<function matplotlib.style.core.context>"
      ]
     },
     "execution_count": 549,
     "metadata": {},
     "output_type": "execute_result"
    }
   ],
   "source": [
    "plt.style.context."
   ]
  },
  {
   "cell_type": "code",
   "execution_count": 548,
   "metadata": {},
   "outputs": [
    {
     "data": {
      "application/vnd.jupyter.widget-view+json": {
       "model_id": "14005fd7ebb941ab98522435b502821a",
       "version_major": 2,
       "version_minor": 0
      },
      "text/html": [
       "<p>Failed to display Jupyter Widget of type <code>interactive</code>.</p>\n",
       "<p>\n",
       "  If you're reading this message in the Jupyter Notebook or JupyterLab Notebook, it may mean\n",
       "  that the widgets JavaScript is still loading. If this message persists, it\n",
       "  likely means that the widgets JavaScript library is either not installed or\n",
       "  not enabled. See the <a href=\"https://ipywidgets.readthedocs.io/en/stable/user_install.html\">Jupyter\n",
       "  Widgets Documentation</a> for setup instructions.\n",
       "</p>\n",
       "<p>\n",
       "  If you're reading this message in another frontend (for example, a static\n",
       "  rendering on GitHub or <a href=\"https://nbviewer.jupyter.org/\">NBViewer</a>),\n",
       "  it may mean that your frontend doesn't currently support widgets.\n",
       "</p>\n"
      ],
      "text/plain": [
       "interactive(children=(Dropdown(description='start_d', options=('2018-01-03', '2018-03-15', '2018-03-16'), value='2018-01-03'), Dropdown(description='x_type', index=1, options=('point', 'date'), value='date'), Output()), _dom_classes=('widget-interact',))"
      ]
     },
     "metadata": {},
     "output_type": "display_data"
    },
    {
     "data": {
      "text/plain": [
       "<function __main__.plot_with_single_date>"
      ]
     },
     "execution_count": 548,
     "metadata": {},
     "output_type": "execute_result"
    }
   ],
   "source": [
    "ipywidgets.interact(plot_with_single_date, \n",
    "                    start_d=except_dates,\n",
    "                    x_type=['point', 'date'])"
   ]
  },
  {
   "cell_type": "code",
   "execution_count": 173,
   "metadata": {},
   "outputs": [
    {
     "data": {
      "application/vnd.jupyter.widget-view+json": {
       "model_id": "01215556f5bb4da18ccc04ab99ddc731",
       "version_major": 2,
       "version_minor": 0
      },
      "text/html": [
       "<p>Failed to display Jupyter Widget of type <code>interactive</code>.</p>\n",
       "<p>\n",
       "  If you're reading this message in the Jupyter Notebook or JupyterLab Notebook, it may mean\n",
       "  that the widgets JavaScript is still loading. If this message persists, it\n",
       "  likely means that the widgets JavaScript library is either not installed or\n",
       "  not enabled. See the <a href=\"https://ipywidgets.readthedocs.io/en/stable/user_install.html\">Jupyter\n",
       "  Widgets Documentation</a> for setup instructions.\n",
       "</p>\n",
       "<p>\n",
       "  If you're reading this message in another frontend (for example, a static\n",
       "  rendering on GitHub or <a href=\"https://nbviewer.jupyter.org/\">NBViewer</a>),\n",
       "  it may mean that your frontend doesn't currently support widgets.\n",
       "</p>\n"
      ],
      "text/plain": [
       "interactive(children=(IntSlider(value=1, description='start_d', max=68), IntSlider(value=0, description='d_range', max=30), Dropdown(description='x_type', index=1, options=('point', 'date'), value='date'), Button(description='Run Interact', style=ButtonStyle()), Output()), _dom_classes=('widget-interact',))"
      ]
     },
     "metadata": {},
     "output_type": "display_data"
    },
    {
     "data": {
      "text/plain": [
       "<function __main__.plot_range>"
      ]
     },
     "execution_count": 173,
     "metadata": {},
     "output_type": "execute_result"
    }
   ],
   "source": [
    "ipywidgets.interact_manual(plot_range, \n",
    "                    start_d=ipywidgets.IntSlider(1, min=0, max=len(date_range)), \n",
    "                    d_range=ipywidgets.IntSlider(0, min=0, max=30),\n",
    "                    x_type=['point', 'date'])"
   ]
  },
  {
   "cell_type": "code",
   "execution_count": 378,
   "metadata": {
    "collapsed": true
   },
   "outputs": [],
   "source": [
    "import bqplot as bq\n",
    "import numpy as np"
   ]
  },
  {
   "cell_type": "code",
   "execution_count": 506,
   "metadata": {
    "collapsed": true
   },
   "outputs": [],
   "source": [
    "start_d = '2018-03-15'\n",
    "df_session = df_timeseties[start_d]"
   ]
  },
  {
   "cell_type": "code",
   "execution_count": 507,
   "metadata": {
    "collapsed": true
   },
   "outputs": [],
   "source": [
    "data_user = df_session['NVL(B.CNT,0)'].dropna()"
   ]
  },
  {
   "cell_type": "code",
   "execution_count": 508,
   "metadata": {
    "collapsed": true
   },
   "outputs": [],
   "source": [
    "data_vol = df_session['VOL']"
   ]
  },
  {
   "cell_type": "code",
   "execution_count": 509,
   "metadata": {
    "collapsed": true
   },
   "outputs": [],
   "source": [
    "data_volma = df_session['VOLMA']"
   ]
  },
  {
   "cell_type": "code",
   "execution_count": 510,
   "metadata": {
    "collapsed": true
   },
   "outputs": [],
   "source": [
    "excepts = df_session.dropna(subset=['EXCEPT'])['VOL']"
   ]
  },
  {
   "cell_type": "code",
   "execution_count": 526,
   "metadata": {
    "collapsed": true
   },
   "outputs": [],
   "source": [
    "def modify_bq_data(start_d):\n",
    "    df_session = df_timeseties[start_d]\n",
    "    data_user = df_session['NVL(B.CNT,0)'].dropna()\n",
    "    data_vol = df_session['VOL']\n",
    "    data_volma = df_session['VOLMA']\n",
    "    excepts = df_session.dropna(subset=['EXCEPT'])['VOL']\n",
    "    line.x = data_vol.index.values\n",
    "    line.y = data_vol.values\n",
    "    linema.x = data_volma.index.values\n",
    "    linema.y = data_volma.values\n",
    "    scatter.x = data_user.index.values\n",
    "    scatter.y = data_user.values\n",
    "    scatter_event.x = excepts.index.values\n",
    "    scatter_event.y = excepts.values\n",
    "    \n",
    "    #except_hline.x = data_vol.index.values\n",
    "    #except_hline.y = np.ones_like(data_vol.values)*excepts[0]\n",
    "\n",
    "    fig.title = start_d"
   ]
  },
  {
   "cell_type": "code",
   "execution_count": 516,
   "metadata": {
    "collapsed": true
   },
   "outputs": [],
   "source": []
  },
  {
   "cell_type": "code",
   "execution_count": 527,
   "metadata": {},
   "outputs": [
    {
     "data": {
      "application/vnd.jupyter.widget-view+json": {
       "model_id": "43cd5c9c560644b7a3171369666c1f38",
       "version_major": 2,
       "version_minor": 0
      },
      "text/html": [
       "<p>Failed to display Jupyter Widget of type <code>interactive</code>.</p>\n",
       "<p>\n",
       "  If you're reading this message in the Jupyter Notebook or JupyterLab Notebook, it may mean\n",
       "  that the widgets JavaScript is still loading. If this message persists, it\n",
       "  likely means that the widgets JavaScript library is either not installed or\n",
       "  not enabled. See the <a href=\"https://ipywidgets.readthedocs.io/en/stable/user_install.html\">Jupyter\n",
       "  Widgets Documentation</a> for setup instructions.\n",
       "</p>\n",
       "<p>\n",
       "  If you're reading this message in another frontend (for example, a static\n",
       "  rendering on GitHub or <a href=\"https://nbviewer.jupyter.org/\">NBViewer</a>),\n",
       "  it may mean that your frontend doesn't currently support widgets.\n",
       "</p>\n"
      ],
      "text/plain": [
       "interactive(children=(Dropdown(description='start_d', options=('2018-01-03', '2018-03-15', '2018-03-16'), value='2018-01-03'), Output()), _dom_classes=('widget-interact',))"
      ]
     },
     "metadata": {},
     "output_type": "display_data"
    },
    {
     "data": {
      "text/plain": [
       "<function __main__.modify_bq_data>"
      ]
     },
     "execution_count": 527,
     "metadata": {},
     "output_type": "execute_result"
    }
   ],
   "source": [
    "sc_x = bq.DateScale()\n",
    "sc_y_vol = bq.LinearScale()\n",
    "sc_y_user = bq.LinearScale()\n",
    "scatter = bq.Scatter(x=data_user.index.values,\n",
    "                     y=data_user.values, \n",
    "                     scales={'x': sc_x, 'y': sc_y_user }, \n",
    "                     colors=['green'], default_size=20)\n",
    "scatter_event = bq.Scatter(x=excepts.index.values,\n",
    "                          y=excepts.values, \n",
    "                          scales={'x': sc_x, 'y': sc_y_vol }, \n",
    "                          colors=['red'], default_size=60, marker='diamond')\n",
    "\n",
    "line = bq.Lines(x=data_vol.index.values, y=data_vol.values, scales={'x': sc_x, 'y': sc_y_vol}, stroke_width=1.5, colors=['steelblue'])\n",
    "linema = bq.Lines(x=data_volma.index.values, y=data_volma.values, scales={'x': sc_x, 'y': sc_y_vol}, stroke_width=1.5, colors=['orange'])\n",
    "#except_hline = bq.Lines(x=data_vol.index.values, y=np.ones_like(data_vol.values)*excepts[0], scales={'x': sc_x, 'y': sc_y_user})\n",
    "\n",
    "ax_x = bq.Axis(label='Datetime', scale=sc_x)\n",
    "ax_y = bq.Axis(label='Volume', scale=sc_y_vol, orientation='vertical', tick_format='0.2f', side='left')\n",
    "ax_y2 = bq.Axis(label='User', scale=sc_y_user, orientation='vertical', tick_format='0.2f', side='right')\n",
    "\n",
    "fig_layout = ipywidgets.Layout(width='auto', height='550px')\n",
    "fig = bq.Figure(axes=[ax_x, ax_y, ax_y2], marks=[scatter, line, linema, scatter_event, except_hline], layout=fig_layout, title=start_d, animation_duration=1000)\n",
    "ipywidgets.interact(modify_bq_data, start_d=except_dates)"
   ]
  },
  {
   "cell_type": "code",
   "execution_count": 528,
   "metadata": {},
   "outputs": [
    {
     "data": {
      "application/vnd.jupyter.widget-view+json": {
       "model_id": "ed28925fad114e2082a795d7f1a4842b",
       "version_major": 2,
       "version_minor": 0
      },
      "text/html": [
       "<p>Failed to display Jupyter Widget of type <code>Figure</code>.</p>\n",
       "<p>\n",
       "  If you're reading this message in the Jupyter Notebook or JupyterLab Notebook, it may mean\n",
       "  that the widgets JavaScript is still loading. If this message persists, it\n",
       "  likely means that the widgets JavaScript library is either not installed or\n",
       "  not enabled. See the <a href=\"https://ipywidgets.readthedocs.io/en/stable/user_install.html\">Jupyter\n",
       "  Widgets Documentation</a> for setup instructions.\n",
       "</p>\n",
       "<p>\n",
       "  If you're reading this message in another frontend (for example, a static\n",
       "  rendering on GitHub or <a href=\"https://nbviewer.jupyter.org/\">NBViewer</a>),\n",
       "  it may mean that your frontend doesn't currently support widgets.\n",
       "</p>\n"
      ],
      "text/plain": [
       "Figure(animation_duration=1000, axes=[Axis(label='Datetime', scale=DateScale(), side='bottom'), Axis(label='Volume', orientation='vertical', scale=LinearScale(), side='left', tick_format='0.2f'), Axis(label='User', orientation='vertical', scale=LinearScale(), side='right', tick_format='0.2f')], fig_margin={'top': 60, 'bottom': 60, 'left': 60, 'right': 60}, layout=Layout(height='550px', width='auto'), marks=[Scatter(colors=['green'], default_size=20, interactions={'hover': 'tooltip'}, scales={'x': DateScale(), 'y': LinearScale()}, scales_metadata={'x': {'orientation': 'horizontal', 'dimension': 'x'}, 'y': {'orientation': 'vertical', 'dimension': 'y'}, 'color': {'dimension': 'color'}, 'size': {'dimension': 'size'}, 'opacity': {'dimension': 'opacity'}, 'rotation': {'dimension': 'rotation'}, 'skew': {'dimension': 'skew'}}, tooltip_style={'opacity': 0.9}, x=array(['2018-01-03T09:01:00.000000000', '2018-01-03T09:02:00.000000000',\n",
       "       '2018-01-03T09:03:00.000000000', '2018-01-03T09:04:00.000000000',\n",
       "       '2018-01-03T09:05:00.000000000', '2018-01-03T09:06:00.000000000',\n",
       "       '2018-01-03T09:07:00.000000000', '2018-01-03T09:08:00.000000000',\n",
       "       '2018-01-03T09:09:00.000000000', '2018-01-03T09:12:00.000000000',\n",
       "       '2018-01-03T09:15:00.000000000', '2018-01-03T09:16:00.000000000',\n",
       "       '2018-01-03T09:17:00.000000000', '2018-01-03T09:18:00.000000000',\n",
       "       '2018-01-03T09:19:00.000000000', '2018-01-03T09:20:00.000000000',\n",
       "       '2018-01-03T09:21:00.000000000', '2018-01-03T09:30:00.000000000',\n",
       "       '2018-01-03T09:31:00.000000000', '2018-01-03T09:32:00.000000000',\n",
       "       '2018-01-03T09:33:00.000000000', '2018-01-03T09:34:00.000000000',\n",
       "       '2018-01-03T09:38:00.000000000', '2018-01-03T09:39:00.000000000',\n",
       "       '2018-01-03T09:40:00.000000000', '2018-01-03T10:12:00.000000000',\n",
       "       '2018-01-03T10:15:00.000000000', '2018-01-03T10:16:00.000000000',\n",
       "       '2018-01-03T10:17:00.000000000', '2018-01-03T10:18:00.000000000',\n",
       "       '2018-01-03T10:19:00.000000000', '2018-01-03T10:21:00.000000000',\n",
       "       '2018-01-03T10:38:00.000000000', '2018-01-03T10:48:00.000000000',\n",
       "       '2018-01-03T10:58:00.000000000', '2018-01-03T10:59:00.000000000',\n",
       "       '2018-01-03T11:00:00.000000000', '2018-01-03T11:11:00.000000000',\n",
       "       '2018-01-03T11:12:00.000000000', '2018-01-03T11:13:00.000000000',\n",
       "       '2018-01-03T11:14:00.000000000', '2018-01-03T11:15:00.000000000',\n",
       "       '2018-01-03T11:16:00.000000000', '2018-01-03T11:17:00.000000000',\n",
       "       '2018-01-03T11:18:00.000000000', '2018-01-03T11:25:00.000000000',\n",
       "       '2018-01-03T11:26:00.000000000', '2018-01-03T11:27:00.000000000',\n",
       "       '2018-01-03T11:28:00.000000000', '2018-01-03T11:29:00.000000000',\n",
       "       '2018-01-03T11:30:00.000000000', '2018-01-03T11:31:00.000000000',\n",
       "       '2018-01-03T11:32:00.000000000', '2018-01-03T11:35:00.000000000',\n",
       "       '2018-01-03T11:36:00.000000000', '2018-01-03T11:37:00.000000000',\n",
       "       '2018-01-03T11:38:00.000000000', '2018-01-03T11:46:00.000000000',\n",
       "       '2018-01-03T11:56:00.000000000', '2018-01-03T11:57:00.000000000',\n",
       "       '2018-01-03T12:00:00.000000000', '2018-01-03T12:01:00.000000000',\n",
       "       '2018-01-03T12:02:00.000000000', '2018-01-03T12:03:00.000000000',\n",
       "       '2018-01-03T12:06:00.000000000', '2018-01-03T12:07:00.000000000',\n",
       "       '2018-01-03T12:08:00.000000000', '2018-01-03T12:10:00.000000000',\n",
       "       '2018-01-03T12:11:00.000000000', '2018-01-03T12:12:00.000000000',\n",
       "       '2018-01-03T12:13:00.000000000', '2018-01-03T12:30:00.000000000',\n",
       "       '2018-01-03T12:33:00.000000000', '2018-01-03T12:37:00.000000000',\n",
       "       '2018-01-03T12:38:00.000000000', '2018-01-03T12:41:00.000000000',\n",
       "       '2018-01-03T12:42:00.000000000', '2018-01-03T12:43:00.000000000',\n",
       "       '2018-01-03T12:44:00.000000000', '2018-01-03T12:45:00.000000000',\n",
       "       '2018-01-03T12:46:00.000000000', '2018-01-03T12:47:00.000000000',\n",
       "       '2018-01-03T12:48:00.000000000', '2018-01-03T12:49:00.000000000',\n",
       "       '2018-01-03T12:50:00.000000000', '2018-01-03T12:51:00.000000000',\n",
       "       '2018-01-03T13:24:00.000000000'], dtype='datetime64[ns]'), y=array([ 10.,  32.,  12.,  40.,  10.,   6.,  28.,  28.,  24.,  10.,  20.,\n",
       "        16.,  14.,  50.,  36.,   6.,  16.,   3.,   9.,   7.,  16.,   2.,\n",
       "         8.,   8.,   8.,   3.,   3.,   6.,   3.,   3.,   6.,   6.,   3.,\n",
       "         6.,   2.,   6.,   1.,   2.,   4.,   2.,   2.,   2.,   2.,   3.,\n",
       "         1.,   2.,   2.,   2.,   4.,   5.,   6.,  16.,  10.,   2.,   5.,\n",
       "        21.,  12.,   9.,   2.,   2.,   9.,  15.,  15.,   9.,   7.,   3.,\n",
       "         2.,   2.,   4.,  11.,   1.,   4.,  17.,   7.,   3.,   2.,   4.,\n",
       "         4.,   2.,  10.,   2.,   6.,  12.,   9.,   8.,   5.,  66.])), Lines(colors=['steelblue'], interactions={'hover': 'tooltip'}, scales={'x': DateScale(), 'y': LinearScale()}, scales_metadata={'x': {'orientation': 'horizontal', 'dimension': 'x'}, 'y': {'orientation': 'vertical', 'dimension': 'y'}, 'color': {'dimension': 'color'}}, stroke_width=1.5, tooltip_style={'opacity': 0.9}, x=array(['2018-01-03T08:46:00.000000000', '2018-01-03T08:47:00.000000000',\n",
       "       '2018-01-03T08:48:00.000000000', '2018-01-03T08:49:00.000000000',\n",
       "       '2018-01-03T08:50:00.000000000', '2018-01-03T08:51:00.000000000',\n",
       "       '2018-01-03T08:52:00.000000000', '2018-01-03T08:53:00.000000000',\n",
       "       '2018-01-03T08:54:00.000000000', '2018-01-03T08:55:00.000000000',\n",
       "       '2018-01-03T08:56:00.000000000', '2018-01-03T08:57:00.000000000',\n",
       "       '2018-01-03T08:58:00.000000000', '2018-01-03T08:59:00.000000000',\n",
       "       '2018-01-03T09:00:00.000000000', '2018-01-03T09:01:00.000000000',\n",
       "       '2018-01-03T09:02:00.000000000', '2018-01-03T09:03:00.000000000',\n",
       "       '2018-01-03T09:04:00.000000000', '2018-01-03T09:05:00.000000000',\n",
       "       '2018-01-03T09:06:00.000000000', '2018-01-03T09:07:00.000000000',\n",
       "       '2018-01-03T09:08:00.000000000', '2018-01-03T09:09:00.000000000',\n",
       "       '2018-01-03T09:10:00.000000000', '2018-01-03T09:11:00.000000000',\n",
       "       '2018-01-03T09:12:00.000000000', '2018-01-03T09:13:00.000000000',\n",
       "       '2018-01-03T09:14:00.000000000', '2018-01-03T09:15:00.000000000',\n",
       "       '2018-01-03T09:16:00.000000000', '2018-01-03T09:17:00.000000000',\n",
       "       '2018-01-03T09:18:00.000000000', '2018-01-03T09:19:00.000000000',\n",
       "       '2018-01-03T09:20:00.000000000', '2018-01-03T09:21:00.000000000',\n",
       "       '2018-01-03T09:22:00.000000000', '2018-01-03T09:23:00.000000000',\n",
       "       '2018-01-03T09:24:00.000000000', '2018-01-03T09:25:00.000000000',\n",
       "       '2018-01-03T09:26:00.000000000', '2018-01-03T09:27:00.000000000',\n",
       "       '2018-01-03T09:28:00.000000000', '2018-01-03T09:29:00.000000000',\n",
       "       '2018-01-03T09:30:00.000000000', '2018-01-03T09:31:00.000000000',\n",
       "       '2018-01-03T09:32:00.000000000', '2018-01-03T09:33:00.000000000',\n",
       "       '2018-01-03T09:34:00.000000000', '2018-01-03T09:35:00.000000000',\n",
       "       '2018-01-03T09:36:00.000000000', '2018-01-03T09:37:00.000000000',\n",
       "       '2018-01-03T09:38:00.000000000', '2018-01-03T09:39:00.000000000',\n",
       "       '2018-01-03T09:40:00.000000000', '2018-01-03T09:41:00.000000000',\n",
       "       '2018-01-03T09:42:00.000000000', '2018-01-03T09:43:00.000000000',\n",
       "       '2018-01-03T09:44:00.000000000', '2018-01-03T09:45:00.000000000',\n",
       "       '2018-01-03T09:46:00.000000000', '2018-01-03T09:47:00.000000000',\n",
       "       '2018-01-03T09:48:00.000000000', '2018-01-03T09:49:00.000000000',\n",
       "       '2018-01-03T09:50:00.000000000', '2018-01-03T09:51:00.000000000',\n",
       "       '2018-01-03T09:52:00.000000000', '2018-01-03T09:53:00.000000000',\n",
       "       '2018-01-03T09:54:00.000000000', '2018-01-03T09:55:00.000000000',\n",
       "       '2018-01-03T09:56:00.000000000', '2018-01-03T09:57:00.000000000',\n",
       "       '2018-01-03T09:58:00.000000000', '2018-01-03T09:59:00.000000000',\n",
       "       '2018-01-03T10:00:00.000000000', '2018-01-03T10:01:00.000000000',\n",
       "       '2018-01-03T10:02:00.000000000', '2018-01-03T10:03:00.000000000',\n",
       "       '2018-01-03T10:04:00.000000000', '2018-01-03T10:05:00.000000000',\n",
       "       '2018-01-03T10:06:00.000000000', '2018-01-03T10:07:00.000000000',\n",
       "       '2018-01-03T10:08:00.000000000', '2018-01-03T10:09:00.000000000',\n",
       "       '2018-01-03T10:10:00.000000000', '2018-01-03T10:11:00.000000000',\n",
       "       '2018-01-03T10:12:00.000000000', '2018-01-03T10:13:00.000000000',\n",
       "       '2018-01-03T10:14:00.000000000', '2018-01-03T10:15:00.000000000',\n",
       "       '2018-01-03T10:16:00.000000000', '2018-01-03T10:17:00.000000000',\n",
       "       '2018-01-03T10:18:00.000000000', '2018-01-03T10:19:00.000000000',\n",
       "       '2018-01-03T10:20:00.000000000', '2018-01-03T10:21:00.000000000',\n",
       "       '2018-01-03T10:22:00.000000000', '2018-01-03T10:23:00.000000000',\n",
       "       '2018-01-03T10:24:00.000000000', '2018-01-03T10:25:00.000000000',\n",
       "       '2018-01-03T10:26:00.000000000', '2018-01-03T10:27:00.000000000',\n",
       "       '2018-01-03T10:28:00.000000000', '2018-01-03T10:29:00.000000000',\n",
       "       '2018-01-03T10:30:00.000000000', '2018-01-03T10:31:00.000000000',\n",
       "       '2018-01-03T10:32:00.000000000', '2018-01-03T10:33:00.000000000',\n",
       "       '2018-01-03T10:34:00.000000000', '2018-01-03T10:35:00.000000000',\n",
       "       '2018-01-03T10:36:00.000000000', '2018-01-03T10:37:00.000000000',\n",
       "       '2018-01-03T10:38:00.000000000', '2018-01-03T10:39:00.000000000',\n",
       "       '2018-01-03T10:40:00.000000000', '2018-01-03T10:41:00.000000000',\n",
       "       '2018-01-03T10:42:00.000000000', '2018-01-03T10:43:00.000000000',\n",
       "       '2018-01-03T10:44:00.000000000', '2018-01-03T10:45:00.000000000',\n",
       "       '2018-01-03T10:46:00.000000000', '2018-01-03T10:47:00.000000000',\n",
       "       '2018-01-03T10:48:00.000000000', '2018-01-03T10:49:00.000000000',\n",
       "       '2018-01-03T10:50:00.000000000', '2018-01-03T10:51:00.000000000',\n",
       "       '2018-01-03T10:52:00.000000000', '2018-01-03T10:53:00.000000000',\n",
       "       '2018-01-03T10:54:00.000000000', '2018-01-03T10:55:00.000000000',\n",
       "       '2018-01-03T10:56:00.000000000', '2018-01-03T10:57:00.000000000',\n",
       "       '2018-01-03T10:58:00.000000000', '2018-01-03T10:59:00.000000000',\n",
       "       '2018-01-03T11:00:00.000000000', '2018-01-03T11:01:00.000000000',\n",
       "       '2018-01-03T11:02:00.000000000', '2018-01-03T11:03:00.000000000',\n",
       "       '2018-01-03T11:04:00.000000000', '2018-01-03T11:05:00.000000000',\n",
       "       '2018-01-03T11:06:00.000000000', '2018-01-03T11:07:00.000000000',\n",
       "       '2018-01-03T11:08:00.000000000', '2018-01-03T11:09:00.000000000',\n",
       "       '2018-01-03T11:10:00.000000000', '2018-01-03T11:11:00.000000000',\n",
       "       '2018-01-03T11:12:00.000000000', '2018-01-03T11:13:00.000000000',\n",
       "       '2018-01-03T11:14:00.000000000', '2018-01-03T11:15:00.000000000',\n",
       "       '2018-01-03T11:16:00.000000000', '2018-01-03T11:17:00.000000000',\n",
       "       '2018-01-03T11:18:00.000000000', '2018-01-03T11:19:00.000000000',\n",
       "       '2018-01-03T11:20:00.000000000', '2018-01-03T11:21:00.000000000',\n",
       "       '2018-01-03T11:22:00.000000000', '2018-01-03T11:23:00.000000000',\n",
       "       '2018-01-03T11:24:00.000000000', '2018-01-03T11:25:00.000000000',\n",
       "       '2018-01-03T11:26:00.000000000', '2018-01-03T11:27:00.000000000',\n",
       "       '2018-01-03T11:28:00.000000000', '2018-01-03T11:29:00.000000000',\n",
       "       '2018-01-03T11:30:00.000000000', '2018-01-03T11:31:00.000000000',\n",
       "       '2018-01-03T11:32:00.000000000', '2018-01-03T11:33:00.000000000',\n",
       "       '2018-01-03T11:34:00.000000000', '2018-01-03T11:35:00.000000000',\n",
       "       '2018-01-03T11:36:00.000000000', '2018-01-03T11:37:00.000000000',\n",
       "       '2018-01-03T11:38:00.000000000', '2018-01-03T11:39:00.000000000',\n",
       "       '2018-01-03T11:40:00.000000000', '2018-01-03T11:41:00.000000000',\n",
       "       '2018-01-03T11:42:00.000000000', '2018-01-03T11:43:00.000000000',\n",
       "       '2018-01-03T11:44:00.000000000', '2018-01-03T11:45:00.000000000',\n",
       "       '2018-01-03T11:46:00.000000000', '2018-01-03T11:47:00.000000000',\n",
       "       '2018-01-03T11:48:00.000000000', '2018-01-03T11:49:00.000000000',\n",
       "       '2018-01-03T11:50:00.000000000', '2018-01-03T11:51:00.000000000',\n",
       "       '2018-01-03T11:52:00.000000000', '2018-01-03T11:53:00.000000000',\n",
       "       '2018-01-03T11:54:00.000000000', '2018-01-03T11:55:00.000000000',\n",
       "       '2018-01-03T11:56:00.000000000', '2018-01-03T11:57:00.000000000',\n",
       "       '2018-01-03T11:58:00.000000000', '2018-01-03T11:59:00.000000000',\n",
       "       '2018-01-03T12:00:00.000000000', '2018-01-03T12:01:00.000000000',\n",
       "       '2018-01-03T12:02:00.000000000', '2018-01-03T12:03:00.000000000',\n",
       "       '2018-01-03T12:04:00.000000000', '2018-01-03T12:05:00.000000000',\n",
       "       '2018-01-03T12:06:00.000000000', '2018-01-03T12:07:00.000000000',\n",
       "       '2018-01-03T12:08:00.000000000', '2018-01-03T12:09:00.000000000',\n",
       "       '2018-01-03T12:10:00.000000000', '2018-01-03T12:11:00.000000000',\n",
       "       '2018-01-03T12:12:00.000000000', '2018-01-03T12:13:00.000000000',\n",
       "       '2018-01-03T12:14:00.000000000', '2018-01-03T12:15:00.000000000',\n",
       "       '2018-01-03T12:16:00.000000000', '2018-01-03T12:17:00.000000000',\n",
       "       '2018-01-03T12:18:00.000000000', '2018-01-03T12:19:00.000000000',\n",
       "       '2018-01-03T12:20:00.000000000', '2018-01-03T12:21:00.000000000',\n",
       "       '2018-01-03T12:22:00.000000000', '2018-01-03T12:23:00.000000000',\n",
       "       '2018-01-03T12:24:00.000000000', '2018-01-03T12:25:00.000000000',\n",
       "       '2018-01-03T12:26:00.000000000', '2018-01-03T12:27:00.000000000',\n",
       "       '2018-01-03T12:28:00.000000000', '2018-01-03T12:29:00.000000000',\n",
       "       '2018-01-03T12:30:00.000000000', '2018-01-03T12:31:00.000000000',\n",
       "       '2018-01-03T12:32:00.000000000', '2018-01-03T12:33:00.000000000',\n",
       "       '2018-01-03T12:34:00.000000000', '2018-01-03T12:35:00.000000000',\n",
       "       '2018-01-03T12:36:00.000000000', '2018-01-03T12:37:00.000000000',\n",
       "       '2018-01-03T12:38:00.000000000', '2018-01-03T12:39:00.000000000',\n",
       "       '2018-01-03T12:40:00.000000000', '2018-01-03T12:41:00.000000000',\n",
       "       '2018-01-03T12:42:00.000000000', '2018-01-03T12:43:00.000000000',\n",
       "       '2018-01-03T12:44:00.000000000', '2018-01-03T12:45:00.000000000',\n",
       "       '2018-01-03T12:46:00.000000000', '2018-01-03T12:47:00.000000000',\n",
       "       '2018-01-03T12:48:00.000000000', '2018-01-03T12:49:00.000000000',\n",
       "       '2018-01-03T12:50:00.000000000', '2018-01-03T12:51:00.000000000',\n",
       "       '2018-01-03T12:52:00.000000000', '2018-01-03T12:53:00.000000000',\n",
       "       '2018-01-03T12:54:00.000000000', '2018-01-03T12:55:00.000000000',\n",
       "       '2018-01-03T12:56:00.000000000', '2018-01-03T12:57:00.000000000',\n",
       "       '2018-01-03T12:58:00.000000000', '2018-01-03T12:59:00.000000000',\n",
       "       '2018-01-03T13:00:00.000000000', '2018-01-03T13:01:00.000000000',\n",
       "       '2018-01-03T13:02:00.000000000', '2018-01-03T13:03:00.000000000',\n",
       "       '2018-01-03T13:04:00.000000000', '2018-01-03T13:05:00.000000000',\n",
       "       '2018-01-03T13:06:00.000000000', '2018-01-03T13:07:00.000000000',\n",
       "       '2018-01-03T13:08:00.000000000', '2018-01-03T13:09:00.000000000',\n",
       "       '2018-01-03T13:10:00.000000000', '2018-01-03T13:11:00.000000000',\n",
       "       '2018-01-03T13:12:00.000000000', '2018-01-03T13:13:00.000000000',\n",
       "       '2018-01-03T13:14:00.000000000', '2018-01-03T13:15:00.000000000',\n",
       "       '2018-01-03T13:16:00.000000000', '2018-01-03T13:17:00.000000000',\n",
       "       '2018-01-03T13:18:00.000000000', '2018-01-03T13:19:00.000000000',\n",
       "       '2018-01-03T13:20:00.000000000', '2018-01-03T13:21:00.000000000',\n",
       "       '2018-01-03T13:22:00.000000000', '2018-01-03T13:23:00.000000000',\n",
       "       '2018-01-03T13:24:00.000000000', '2018-01-03T13:25:00.000000000',\n",
       "       '2018-01-03T13:26:00.000000000', '2018-01-03T13:27:00.000000000',\n",
       "       '2018-01-03T13:28:00.000000000', '2018-01-03T13:29:00.000000000',\n",
       "       '2018-01-03T13:30:00.000000000', '2018-01-03T13:31:00.000000000',\n",
       "       '2018-01-03T13:32:00.000000000', '2018-01-03T13:33:00.000000000',\n",
       "       '2018-01-03T13:34:00.000000000', '2018-01-03T13:35:00.000000000',\n",
       "       '2018-01-03T13:36:00.000000000', '2018-01-03T13:37:00.000000000',\n",
       "       '2018-01-03T13:38:00.000000000', '2018-01-03T13:39:00.000000000',\n",
       "       '2018-01-03T13:40:00.000000000', '2018-01-03T13:41:00.000000000',\n",
       "       '2018-01-03T13:42:00.000000000', '2018-01-03T13:43:00.000000000',\n",
       "       '2018-01-03T13:44:00.000000000', '2018-01-03T13:45:00.000000000'], dtype='datetime64[ns]'), y=array([2668,  906,  615,  603,  256,  433,  427,  578,  417,  232,  454,\n",
       "        797,  371,  584,  773, 2917, 2220, 1720, 1114, 1576, 1182, 1294,\n",
       "       1351,  522,  703, 1197, 1503, 1117, 1558, 1518, 2414, 1150,  590,\n",
       "        667,  837,  857,  824,  627,  541,  467,  392,  564,  427, 1214,\n",
       "        829,  829, 1315,  588,  270,  557,  167,  297,  519,  526,  580,\n",
       "        550,  978,  961,  783,  455,  531,  586,  799,  724,  435,  731,\n",
       "        506,  370,  323,  312,  815,  818,  832,  419,  660,  418,  645,\n",
       "        466,  253,  212,  624,  434,  280,  432,  293,  224,  194,  267,\n",
       "        260,  236,  646,  570,  227,  313,  426,  634,  267,  224,   99,\n",
       "         58,  571,  298,  162,  349,  103,  494,   71,  218,  100,   40,\n",
       "        176,  194,  107,   51,  123,   93,  182,  250,   83,  307,  293,\n",
       "        239,  229,  163,  769,  402,  201,  527,  356,  160,  109,  261,\n",
       "        170,  100,  360, 2186,  313,  193,  337,  281,  258,  258,  171,\n",
       "        626,  153,  179,  153,  686,  307,  142,  327,  243,  173,  187,\n",
       "         59,  197,   96,   78,   73,  170,  102,  102,   96,  122,  174,\n",
       "        623,  356,  230,  144,  106,  222,  422,  189,  174,  268,  104,\n",
       "         53,  105,   94,  105,  225,  252,   78,  181,   57,   40,  165,\n",
       "         64,   46,  188,  159,   79,   44,   58,  167, 1211,  316,  594,\n",
       "        284,  393,  134,   59,  115,  226,   53,   73,  165,   65,  495,\n",
       "        513,  123,   54,   43,  149,   33,  106,   99,   39,   29,   45,\n",
       "         52,   36,  363,   96,   90,   88,   49,   14,  141,  264,  680,\n",
       "        148,   86,   89,   78,  355,   81,  235,   70,   83,  331,  204,\n",
       "         82,  222,  128,  677,  629,  162,  117,  114,  278,  185,  589,\n",
       "        209,  173,  313,  181,  294,  222,   91,  203,  104,  127,  332,\n",
       "        139,  235,  455,  270,  113,  161,  270,  240,   59,   93,  179,\n",
       "        230,  317,  150,  176,  170,  531,  274,  220,  225,  301,  942,\n",
       "        351,  326,  370,  276,  471,  454,  664,  414,  327,  495,  305,\n",
       "        476,  935, 1330])), Lines(colors=['orange'], interactions={'hover': 'tooltip'}, scales={'x': DateScale(), 'y': LinearScale()}, scales_metadata={'x': {'orientation': 'horizontal', 'dimension': 'x'}, 'y': {'orientation': 'vertical', 'dimension': 'y'}, 'color': {'dimension': 'color'}}, stroke_width=1.5, tooltip_style={'opacity': 0.9}, x=array(['2018-01-03T08:46:00.000000000', '2018-01-03T08:47:00.000000000',\n",
       "       '2018-01-03T08:48:00.000000000', '2018-01-03T08:49:00.000000000',\n",
       "       '2018-01-03T08:50:00.000000000', '2018-01-03T08:51:00.000000000',\n",
       "       '2018-01-03T08:52:00.000000000', '2018-01-03T08:53:00.000000000',\n",
       "       '2018-01-03T08:54:00.000000000', '2018-01-03T08:55:00.000000000',\n",
       "       '2018-01-03T08:56:00.000000000', '2018-01-03T08:57:00.000000000',\n",
       "       '2018-01-03T08:58:00.000000000', '2018-01-03T08:59:00.000000000',\n",
       "       '2018-01-03T09:00:00.000000000', '2018-01-03T09:01:00.000000000',\n",
       "       '2018-01-03T09:02:00.000000000', '2018-01-03T09:03:00.000000000',\n",
       "       '2018-01-03T09:04:00.000000000', '2018-01-03T09:05:00.000000000',\n",
       "       '2018-01-03T09:06:00.000000000', '2018-01-03T09:07:00.000000000',\n",
       "       '2018-01-03T09:08:00.000000000', '2018-01-03T09:09:00.000000000',\n",
       "       '2018-01-03T09:10:00.000000000', '2018-01-03T09:11:00.000000000',\n",
       "       '2018-01-03T09:12:00.000000000', '2018-01-03T09:13:00.000000000',\n",
       "       '2018-01-03T09:14:00.000000000', '2018-01-03T09:15:00.000000000',\n",
       "       '2018-01-03T09:16:00.000000000', '2018-01-03T09:17:00.000000000',\n",
       "       '2018-01-03T09:18:00.000000000', '2018-01-03T09:19:00.000000000',\n",
       "       '2018-01-03T09:20:00.000000000', '2018-01-03T09:21:00.000000000',\n",
       "       '2018-01-03T09:22:00.000000000', '2018-01-03T09:23:00.000000000',\n",
       "       '2018-01-03T09:24:00.000000000', '2018-01-03T09:25:00.000000000',\n",
       "       '2018-01-03T09:26:00.000000000', '2018-01-03T09:27:00.000000000',\n",
       "       '2018-01-03T09:28:00.000000000', '2018-01-03T09:29:00.000000000',\n",
       "       '2018-01-03T09:30:00.000000000', '2018-01-03T09:31:00.000000000',\n",
       "       '2018-01-03T09:32:00.000000000', '2018-01-03T09:33:00.000000000',\n",
       "       '2018-01-03T09:34:00.000000000', '2018-01-03T09:35:00.000000000',\n",
       "       '2018-01-03T09:36:00.000000000', '2018-01-03T09:37:00.000000000',\n",
       "       '2018-01-03T09:38:00.000000000', '2018-01-03T09:39:00.000000000',\n",
       "       '2018-01-03T09:40:00.000000000', '2018-01-03T09:41:00.000000000',\n",
       "       '2018-01-03T09:42:00.000000000', '2018-01-03T09:43:00.000000000',\n",
       "       '2018-01-03T09:44:00.000000000', '2018-01-03T09:45:00.000000000',\n",
       "       '2018-01-03T09:46:00.000000000', '2018-01-03T09:47:00.000000000',\n",
       "       '2018-01-03T09:48:00.000000000', '2018-01-03T09:49:00.000000000',\n",
       "       '2018-01-03T09:50:00.000000000', '2018-01-03T09:51:00.000000000',\n",
       "       '2018-01-03T09:52:00.000000000', '2018-01-03T09:53:00.000000000',\n",
       "       '2018-01-03T09:54:00.000000000', '2018-01-03T09:55:00.000000000',\n",
       "       '2018-01-03T09:56:00.000000000', '2018-01-03T09:57:00.000000000',\n",
       "       '2018-01-03T09:58:00.000000000', '2018-01-03T09:59:00.000000000',\n",
       "       '2018-01-03T10:00:00.000000000', '2018-01-03T10:01:00.000000000',\n",
       "       '2018-01-03T10:02:00.000000000', '2018-01-03T10:03:00.000000000',\n",
       "       '2018-01-03T10:04:00.000000000', '2018-01-03T10:05:00.000000000',\n",
       "       '2018-01-03T10:06:00.000000000', '2018-01-03T10:07:00.000000000',\n",
       "       '2018-01-03T10:08:00.000000000', '2018-01-03T10:09:00.000000000',\n",
       "       '2018-01-03T10:10:00.000000000', '2018-01-03T10:11:00.000000000',\n",
       "       '2018-01-03T10:12:00.000000000', '2018-01-03T10:13:00.000000000',\n",
       "       '2018-01-03T10:14:00.000000000', '2018-01-03T10:15:00.000000000',\n",
       "       '2018-01-03T10:16:00.000000000', '2018-01-03T10:17:00.000000000',\n",
       "       '2018-01-03T10:18:00.000000000', '2018-01-03T10:19:00.000000000',\n",
       "       '2018-01-03T10:20:00.000000000', '2018-01-03T10:21:00.000000000',\n",
       "       '2018-01-03T10:22:00.000000000', '2018-01-03T10:23:00.000000000',\n",
       "       '2018-01-03T10:24:00.000000000', '2018-01-03T10:25:00.000000000',\n",
       "       '2018-01-03T10:26:00.000000000', '2018-01-03T10:27:00.000000000',\n",
       "       '2018-01-03T10:28:00.000000000', '2018-01-03T10:29:00.000000000',\n",
       "       '2018-01-03T10:30:00.000000000', '2018-01-03T10:31:00.000000000',\n",
       "       '2018-01-03T10:32:00.000000000', '2018-01-03T10:33:00.000000000',\n",
       "       '2018-01-03T10:34:00.000000000', '2018-01-03T10:35:00.000000000',\n",
       "       '2018-01-03T10:36:00.000000000', '2018-01-03T10:37:00.000000000',\n",
       "       '2018-01-03T10:38:00.000000000', '2018-01-03T10:39:00.000000000',\n",
       "       '2018-01-03T10:40:00.000000000', '2018-01-03T10:41:00.000000000',\n",
       "       '2018-01-03T10:42:00.000000000', '2018-01-03T10:43:00.000000000',\n",
       "       '2018-01-03T10:44:00.000000000', '2018-01-03T10:45:00.000000000',\n",
       "       '2018-01-03T10:46:00.000000000', '2018-01-03T10:47:00.000000000',\n",
       "       '2018-01-03T10:48:00.000000000', '2018-01-03T10:49:00.000000000',\n",
       "       '2018-01-03T10:50:00.000000000', '2018-01-03T10:51:00.000000000',\n",
       "       '2018-01-03T10:52:00.000000000', '2018-01-03T10:53:00.000000000',\n",
       "       '2018-01-03T10:54:00.000000000', '2018-01-03T10:55:00.000000000',\n",
       "       '2018-01-03T10:56:00.000000000', '2018-01-03T10:57:00.000000000',\n",
       "       '2018-01-03T10:58:00.000000000', '2018-01-03T10:59:00.000000000',\n",
       "       '2018-01-03T11:00:00.000000000', '2018-01-03T11:01:00.000000000',\n",
       "       '2018-01-03T11:02:00.000000000', '2018-01-03T11:03:00.000000000',\n",
       "       '2018-01-03T11:04:00.000000000', '2018-01-03T11:05:00.000000000',\n",
       "       '2018-01-03T11:06:00.000000000', '2018-01-03T11:07:00.000000000',\n",
       "       '2018-01-03T11:08:00.000000000', '2018-01-03T11:09:00.000000000',\n",
       "       '2018-01-03T11:10:00.000000000', '2018-01-03T11:11:00.000000000',\n",
       "       '2018-01-03T11:12:00.000000000', '2018-01-03T11:13:00.000000000',\n",
       "       '2018-01-03T11:14:00.000000000', '2018-01-03T11:15:00.000000000',\n",
       "       '2018-01-03T11:16:00.000000000', '2018-01-03T11:17:00.000000000',\n",
       "       '2018-01-03T11:18:00.000000000', '2018-01-03T11:19:00.000000000',\n",
       "       '2018-01-03T11:20:00.000000000', '2018-01-03T11:21:00.000000000',\n",
       "       '2018-01-03T11:22:00.000000000', '2018-01-03T11:23:00.000000000',\n",
       "       '2018-01-03T11:24:00.000000000', '2018-01-03T11:25:00.000000000',\n",
       "       '2018-01-03T11:26:00.000000000', '2018-01-03T11:27:00.000000000',\n",
       "       '2018-01-03T11:28:00.000000000', '2018-01-03T11:29:00.000000000',\n",
       "       '2018-01-03T11:30:00.000000000', '2018-01-03T11:31:00.000000000',\n",
       "       '2018-01-03T11:32:00.000000000', '2018-01-03T11:33:00.000000000',\n",
       "       '2018-01-03T11:34:00.000000000', '2018-01-03T11:35:00.000000000',\n",
       "       '2018-01-03T11:36:00.000000000', '2018-01-03T11:37:00.000000000',\n",
       "       '2018-01-03T11:38:00.000000000', '2018-01-03T11:39:00.000000000',\n",
       "       '2018-01-03T11:40:00.000000000', '2018-01-03T11:41:00.000000000',\n",
       "       '2018-01-03T11:42:00.000000000', '2018-01-03T11:43:00.000000000',\n",
       "       '2018-01-03T11:44:00.000000000', '2018-01-03T11:45:00.000000000',\n",
       "       '2018-01-03T11:46:00.000000000', '2018-01-03T11:47:00.000000000',\n",
       "       '2018-01-03T11:48:00.000000000', '2018-01-03T11:49:00.000000000',\n",
       "       '2018-01-03T11:50:00.000000000', '2018-01-03T11:51:00.000000000',\n",
       "       '2018-01-03T11:52:00.000000000', '2018-01-03T11:53:00.000000000',\n",
       "       '2018-01-03T11:54:00.000000000', '2018-01-03T11:55:00.000000000',\n",
       "       '2018-01-03T11:56:00.000000000', '2018-01-03T11:57:00.000000000',\n",
       "       '2018-01-03T11:58:00.000000000', '2018-01-03T11:59:00.000000000',\n",
       "       '2018-01-03T12:00:00.000000000', '2018-01-03T12:01:00.000000000',\n",
       "       '2018-01-03T12:02:00.000000000', '2018-01-03T12:03:00.000000000',\n",
       "       '2018-01-03T12:04:00.000000000', '2018-01-03T12:05:00.000000000',\n",
       "       '2018-01-03T12:06:00.000000000', '2018-01-03T12:07:00.000000000',\n",
       "       '2018-01-03T12:08:00.000000000', '2018-01-03T12:09:00.000000000',\n",
       "       '2018-01-03T12:10:00.000000000', '2018-01-03T12:11:00.000000000',\n",
       "       '2018-01-03T12:12:00.000000000', '2018-01-03T12:13:00.000000000',\n",
       "       '2018-01-03T12:14:00.000000000', '2018-01-03T12:15:00.000000000',\n",
       "       '2018-01-03T12:16:00.000000000', '2018-01-03T12:17:00.000000000',\n",
       "       '2018-01-03T12:18:00.000000000', '2018-01-03T12:19:00.000000000',\n",
       "       '2018-01-03T12:20:00.000000000', '2018-01-03T12:21:00.000000000',\n",
       "       '2018-01-03T12:22:00.000000000', '2018-01-03T12:23:00.000000000',\n",
       "       '2018-01-03T12:24:00.000000000', '2018-01-03T12:25:00.000000000',\n",
       "       '2018-01-03T12:26:00.000000000', '2018-01-03T12:27:00.000000000',\n",
       "       '2018-01-03T12:28:00.000000000', '2018-01-03T12:29:00.000000000',\n",
       "       '2018-01-03T12:30:00.000000000', '2018-01-03T12:31:00.000000000',\n",
       "       '2018-01-03T12:32:00.000000000', '2018-01-03T12:33:00.000000000',\n",
       "       '2018-01-03T12:34:00.000000000', '2018-01-03T12:35:00.000000000',\n",
       "       '2018-01-03T12:36:00.000000000', '2018-01-03T12:37:00.000000000',\n",
       "       '2018-01-03T12:38:00.000000000', '2018-01-03T12:39:00.000000000',\n",
       "       '2018-01-03T12:40:00.000000000', '2018-01-03T12:41:00.000000000',\n",
       "       '2018-01-03T12:42:00.000000000', '2018-01-03T12:43:00.000000000',\n",
       "       '2018-01-03T12:44:00.000000000', '2018-01-03T12:45:00.000000000',\n",
       "       '2018-01-03T12:46:00.000000000', '2018-01-03T12:47:00.000000000',\n",
       "       '2018-01-03T12:48:00.000000000', '2018-01-03T12:49:00.000000000',\n",
       "       '2018-01-03T12:50:00.000000000', '2018-01-03T12:51:00.000000000',\n",
       "       '2018-01-03T12:52:00.000000000', '2018-01-03T12:53:00.000000000',\n",
       "       '2018-01-03T12:54:00.000000000', '2018-01-03T12:55:00.000000000',\n",
       "       '2018-01-03T12:56:00.000000000', '2018-01-03T12:57:00.000000000',\n",
       "       '2018-01-03T12:58:00.000000000', '2018-01-03T12:59:00.000000000',\n",
       "       '2018-01-03T13:00:00.000000000', '2018-01-03T13:01:00.000000000',\n",
       "       '2018-01-03T13:02:00.000000000', '2018-01-03T13:03:00.000000000',\n",
       "       '2018-01-03T13:04:00.000000000', '2018-01-03T13:05:00.000000000',\n",
       "       '2018-01-03T13:06:00.000000000', '2018-01-03T13:07:00.000000000',\n",
       "       '2018-01-03T13:08:00.000000000', '2018-01-03T13:09:00.000000000',\n",
       "       '2018-01-03T13:10:00.000000000', '2018-01-03T13:11:00.000000000',\n",
       "       '2018-01-03T13:12:00.000000000', '2018-01-03T13:13:00.000000000',\n",
       "       '2018-01-03T13:14:00.000000000', '2018-01-03T13:15:00.000000000',\n",
       "       '2018-01-03T13:16:00.000000000', '2018-01-03T13:17:00.000000000',\n",
       "       '2018-01-03T13:18:00.000000000', '2018-01-03T13:19:00.000000000',\n",
       "       '2018-01-03T13:20:00.000000000', '2018-01-03T13:21:00.000000000',\n",
       "       '2018-01-03T13:22:00.000000000', '2018-01-03T13:23:00.000000000',\n",
       "       '2018-01-03T13:24:00.000000000', '2018-01-03T13:25:00.000000000',\n",
       "       '2018-01-03T13:26:00.000000000', '2018-01-03T13:27:00.000000000',\n",
       "       '2018-01-03T13:28:00.000000000', '2018-01-03T13:29:00.000000000',\n",
       "       '2018-01-03T13:30:00.000000000', '2018-01-03T13:31:00.000000000',\n",
       "       '2018-01-03T13:32:00.000000000', '2018-01-03T13:33:00.000000000',\n",
       "       '2018-01-03T13:34:00.000000000', '2018-01-03T13:35:00.000000000',\n",
       "       '2018-01-03T13:36:00.000000000', '2018-01-03T13:37:00.000000000',\n",
       "       '2018-01-03T13:38:00.000000000', '2018-01-03T13:39:00.000000000',\n",
       "       '2018-01-03T13:40:00.000000000', '2018-01-03T13:41:00.000000000',\n",
       "       '2018-01-03T13:42:00.000000000', '2018-01-03T13:43:00.000000000',\n",
       "       '2018-01-03T13:44:00.000000000', '2018-01-03T13:45:00.000000000'], dtype='datetime64[ns]'), y=array([  698.25,   713.75,   707.55,   717.75,   710.7 ,   665.4 ,\n",
       "         661.85,   665.5 ,   663.35,   657.65,   634.3 ,   660.1 ,\n",
       "         662.1 ,   674.9 ,   696.25,   819.75,   905.7 ,   962.15,\n",
       "         979.55,   983.05,   908.75,   928.15,   964.95,   960.9 ,\n",
       "         983.25,  1021.45,  1075.25,  1102.2 ,  1159.25,  1223.55,\n",
       "        1321.55,  1339.2 ,  1350.15,  1354.3 ,  1357.5 ,  1254.5 ,\n",
       "        1184.7 ,  1130.05,  1101.4 ,  1045.95,  1006.45,   969.95,\n",
       "         923.75,   958.35,   964.65,   946.25,   936.85,   910.4 ,\n",
       "         846.  ,   797.95,   685.6 ,   642.95,   639.4 ,   632.35,\n",
       "         619.5 ,   604.15,   611.85,   628.55,   640.65,   640.05,\n",
       "         647.  ,   648.1 ,   666.7 ,   642.2 ,   622.5 ,   617.6 ,\n",
       "         577.15,   566.25,   568.9 ,   556.65,   589.05,   615.1 ,\n",
       "         630.75,   625.4 ,   629.4 ,   622.8 ,   606.15,   581.4 ,\n",
       "         554.9 ,   542.75,   547.4 ,   539.8 ,   513.85,   499.25,\n",
       "         492.15,   466.8 ,   451.2 ,   446.05,   442.9 ,   439.1 ,\n",
       "         430.65,   418.25,   388.  ,   382.7 ,   371.  ,   381.8 ,\n",
       "         362.9 ,   350.8 ,   343.1 ,   335.4 ,   332.75,   325.95,\n",
       "         320.05,   315.9 ,   306.4 ,   319.9 ,   313.75,   311.3 ,\n",
       "         303.3 ,   293.5 ,   270.  ,   251.2 ,   245.2 ,   232.1 ,\n",
       "         216.95,   189.9 ,   185.65,   186.95,   186.15,   198.6 ,\n",
       "         184.7 ,   181.75,   185.1 ,   175.8 ,   209.1 ,   204.5 ,\n",
       "         211.  ,   226.45,   239.25,   245.25,   241.9 ,   245.25,\n",
       "         248.4 ,   250.85,   262.7 ,   367.35,   373.9 ,   371.05,\n",
       "         383.75,   382.45,   380.7 ,   381.65,   378.75,   401.9 ,\n",
       "         371.1 ,   359.95,   357.55,   365.5 ,   363.05,   362.15,\n",
       "         373.05,   372.15,   372.3 ,   376.65,   361.6 ,   262.15,\n",
       "         251.3 ,   245.55,   232.35,   226.8 ,   219.  ,   211.2 ,\n",
       "         207.45,   182.25,   183.3 ,   205.5 ,   215.65,   192.85,\n",
       "         184.7 ,   182.9 ,   177.65,   186.6 ,   187.4 ,   186.75,\n",
       "         197.2 ,   192.55,   190.4 ,   191.75,   192.8 ,   189.55,\n",
       "         195.7 ,   203.2 ,   202.3 ,   205.25,   199.4 ,   170.25,\n",
       "         160.7 ,   152.4 ,   147.5 ,   151.6 ,   148.45,   131.3 ,\n",
       "         124.05,   118.25,   113.2 ,   168.55,   181.7 ,   206.15,\n",
       "         215.65,   230.05,   225.5 ,   215.85,   217.7 ,   219.95,\n",
       "         219.75,   221.4 ,   221.4 ,   221.45,   243.9 ,   260.15,\n",
       "         258.35,   257.1 ,   257.05,   261.6 ,   254.9 ,   199.65,\n",
       "         188.8 ,   161.05,   148.3 ,   130.9 ,   126.8 ,   125.65,\n",
       "         138.05,   131.55,   133.4 ,   134.15,   128.35,   125.8 ,\n",
       "         108.1 ,    95.65,   123.5 ,   128.2 ,   130.35,   127.35,\n",
       "         129.6 ,   142.05,   141.15,   150.95,   153.  ,   154.9 ,\n",
       "         168.85,   177.25,   163.2 ,   169.5 ,   171.4 ,   200.85,\n",
       "         229.85,   237.25,   236.05,   228.55,   208.45,   210.3 ,\n",
       "         235.45,   241.45,   246.2 ,   244.1 ,   249.1 ,   252.05,\n",
       "         259.65,   260.05,   253.65,   248.65,   250.9 ,   256.4 ,\n",
       "         256.95,   234.85,   226.15,   231.55,   231.35,   233.7 ,\n",
       "         233.3 ,   236.05,   209.55,   203.75,   204.05,   199.9 ,\n",
       "         206.7 ,   199.5 ,   197.2 ,   201.15,   217.55,   226.05,\n",
       "         230.7 ,   225.35,   233.45,   268.8 ,   263.6 ,   266.4 ,\n",
       "         279.25,   285.  ,   295.05,   305.75,   336.  ,   352.05,\n",
       "         359.45,   372.7 ,   372.1 ,   388.4 ,   426.35,   484.35])), Scatter(colors=['red'], default_size=60, interactions={'hover': 'tooltip'}, marker='diamond', scales={'x': DateScale(), 'y': LinearScale()}, scales_metadata={'x': {'orientation': 'horizontal', 'dimension': 'x'}, 'y': {'orientation': 'vertical', 'dimension': 'y'}, 'color': {'dimension': 'color'}, 'size': {'dimension': 'size'}, 'opacity': {'dimension': 'opacity'}, 'rotation': {'dimension': 'rotation'}, 'skew': {'dimension': 'skew'}}, tooltip_style={'opacity': 0.9}, x=array(['2018-01-03T12:01:00.000000000', '2018-01-03T12:02:00.000000000',\n",
       "       '2018-01-03T12:30:00.000000000'], dtype='datetime64[ns]'), y=array([1211,  316,   90])), Lines(colors=['#1f77b4', '#ff7f0e', '#2ca02c', '#d62728', '#9467bd', '#8c564b', '#e377c2', '#7f7f7f', '#bcbd22', '#17becf'], interactions={'hover': 'tooltip'}, scales={'x': DateScale(), 'y': LinearScale()}, scales_metadata={'x': {'orientation': 'horizontal', 'dimension': 'x'}, 'y': {'orientation': 'vertical', 'dimension': 'y'}, 'color': {'dimension': 'color'}}, tooltip_style={'opacity': 0.9}, x=array(['2018-01-03T08:46:00.000000000', '2018-01-03T08:47:00.000000000',\n",
       "       '2018-01-03T08:48:00.000000000', '2018-01-03T08:49:00.000000000',\n",
       "       '2018-01-03T08:50:00.000000000', '2018-01-03T08:51:00.000000000',\n",
       "       '2018-01-03T08:52:00.000000000', '2018-01-03T08:53:00.000000000',\n",
       "       '2018-01-03T08:54:00.000000000', '2018-01-03T08:55:00.000000000',\n",
       "       '2018-01-03T08:56:00.000000000', '2018-01-03T08:57:00.000000000',\n",
       "       '2018-01-03T08:58:00.000000000', '2018-01-03T08:59:00.000000000',\n",
       "       '2018-01-03T09:00:00.000000000', '2018-01-03T09:01:00.000000000',\n",
       "       '2018-01-03T09:02:00.000000000', '2018-01-03T09:03:00.000000000',\n",
       "       '2018-01-03T09:04:00.000000000', '2018-01-03T09:05:00.000000000',\n",
       "       '2018-01-03T09:06:00.000000000', '2018-01-03T09:07:00.000000000',\n",
       "       '2018-01-03T09:08:00.000000000', '2018-01-03T09:09:00.000000000',\n",
       "       '2018-01-03T09:10:00.000000000', '2018-01-03T09:11:00.000000000',\n",
       "       '2018-01-03T09:12:00.000000000', '2018-01-03T09:13:00.000000000',\n",
       "       '2018-01-03T09:14:00.000000000', '2018-01-03T09:15:00.000000000',\n",
       "       '2018-01-03T09:16:00.000000000', '2018-01-03T09:17:00.000000000',\n",
       "       '2018-01-03T09:18:00.000000000', '2018-01-03T09:19:00.000000000',\n",
       "       '2018-01-03T09:20:00.000000000', '2018-01-03T09:21:00.000000000',\n",
       "       '2018-01-03T09:22:00.000000000', '2018-01-03T09:23:00.000000000',\n",
       "       '2018-01-03T09:24:00.000000000', '2018-01-03T09:25:00.000000000',\n",
       "       '2018-01-03T09:26:00.000000000', '2018-01-03T09:27:00.000000000',\n",
       "       '2018-01-03T09:28:00.000000000', '2018-01-03T09:29:00.000000000',\n",
       "       '2018-01-03T09:30:00.000000000', '2018-01-03T09:31:00.000000000',\n",
       "       '2018-01-03T09:32:00.000000000', '2018-01-03T09:33:00.000000000',\n",
       "       '2018-01-03T09:34:00.000000000', '2018-01-03T09:35:00.000000000',\n",
       "       '2018-01-03T09:36:00.000000000', '2018-01-03T09:37:00.000000000',\n",
       "       '2018-01-03T09:38:00.000000000', '2018-01-03T09:39:00.000000000',\n",
       "       '2018-01-03T09:40:00.000000000', '2018-01-03T09:41:00.000000000',\n",
       "       '2018-01-03T09:42:00.000000000', '2018-01-03T09:43:00.000000000',\n",
       "       '2018-01-03T09:44:00.000000000', '2018-01-03T09:45:00.000000000',\n",
       "       '2018-01-03T09:46:00.000000000', '2018-01-03T09:47:00.000000000',\n",
       "       '2018-01-03T09:48:00.000000000', '2018-01-03T09:49:00.000000000',\n",
       "       '2018-01-03T09:50:00.000000000', '2018-01-03T09:51:00.000000000',\n",
       "       '2018-01-03T09:52:00.000000000', '2018-01-03T09:53:00.000000000',\n",
       "       '2018-01-03T09:54:00.000000000', '2018-01-03T09:55:00.000000000',\n",
       "       '2018-01-03T09:56:00.000000000', '2018-01-03T09:57:00.000000000',\n",
       "       '2018-01-03T09:58:00.000000000', '2018-01-03T09:59:00.000000000',\n",
       "       '2018-01-03T10:00:00.000000000', '2018-01-03T10:01:00.000000000',\n",
       "       '2018-01-03T10:02:00.000000000', '2018-01-03T10:03:00.000000000',\n",
       "       '2018-01-03T10:04:00.000000000', '2018-01-03T10:05:00.000000000',\n",
       "       '2018-01-03T10:06:00.000000000', '2018-01-03T10:07:00.000000000',\n",
       "       '2018-01-03T10:08:00.000000000', '2018-01-03T10:09:00.000000000',\n",
       "       '2018-01-03T10:10:00.000000000', '2018-01-03T10:11:00.000000000',\n",
       "       '2018-01-03T10:12:00.000000000', '2018-01-03T10:13:00.000000000',\n",
       "       '2018-01-03T10:14:00.000000000', '2018-01-03T10:15:00.000000000',\n",
       "       '2018-01-03T10:16:00.000000000', '2018-01-03T10:17:00.000000000',\n",
       "       '2018-01-03T10:18:00.000000000', '2018-01-03T10:19:00.000000000',\n",
       "       '2018-01-03T10:20:00.000000000', '2018-01-03T10:21:00.000000000',\n",
       "       '2018-01-03T10:22:00.000000000', '2018-01-03T10:23:00.000000000',\n",
       "       '2018-01-03T10:24:00.000000000', '2018-01-03T10:25:00.000000000',\n",
       "       '2018-01-03T10:26:00.000000000', '2018-01-03T10:27:00.000000000',\n",
       "       '2018-01-03T10:28:00.000000000', '2018-01-03T10:29:00.000000000',\n",
       "       '2018-01-03T10:30:00.000000000', '2018-01-03T10:31:00.000000000',\n",
       "       '2018-01-03T10:32:00.000000000', '2018-01-03T10:33:00.000000000',\n",
       "       '2018-01-03T10:34:00.000000000', '2018-01-03T10:35:00.000000000',\n",
       "       '2018-01-03T10:36:00.000000000', '2018-01-03T10:37:00.000000000',\n",
       "       '2018-01-03T10:38:00.000000000', '2018-01-03T10:39:00.000000000',\n",
       "       '2018-01-03T10:40:00.000000000', '2018-01-03T10:41:00.000000000',\n",
       "       '2018-01-03T10:42:00.000000000', '2018-01-03T10:43:00.000000000',\n",
       "       '2018-01-03T10:44:00.000000000', '2018-01-03T10:45:00.000000000',\n",
       "       '2018-01-03T10:46:00.000000000', '2018-01-03T10:47:00.000000000',\n",
       "       '2018-01-03T10:48:00.000000000', '2018-01-03T10:49:00.000000000',\n",
       "       '2018-01-03T10:50:00.000000000', '2018-01-03T10:51:00.000000000',\n",
       "       '2018-01-03T10:52:00.000000000', '2018-01-03T10:53:00.000000000',\n",
       "       '2018-01-03T10:54:00.000000000', '2018-01-03T10:55:00.000000000',\n",
       "       '2018-01-03T10:56:00.000000000', '2018-01-03T10:57:00.000000000',\n",
       "       '2018-01-03T10:58:00.000000000', '2018-01-03T10:59:00.000000000',\n",
       "       '2018-01-03T11:00:00.000000000', '2018-01-03T11:01:00.000000000',\n",
       "       '2018-01-03T11:02:00.000000000', '2018-01-03T11:03:00.000000000',\n",
       "       '2018-01-03T11:04:00.000000000', '2018-01-03T11:05:00.000000000',\n",
       "       '2018-01-03T11:06:00.000000000', '2018-01-03T11:07:00.000000000',\n",
       "       '2018-01-03T11:08:00.000000000', '2018-01-03T11:09:00.000000000',\n",
       "       '2018-01-03T11:10:00.000000000', '2018-01-03T11:11:00.000000000',\n",
       "       '2018-01-03T11:12:00.000000000', '2018-01-03T11:13:00.000000000',\n",
       "       '2018-01-03T11:14:00.000000000', '2018-01-03T11:15:00.000000000',\n",
       "       '2018-01-03T11:16:00.000000000', '2018-01-03T11:17:00.000000000',\n",
       "       '2018-01-03T11:18:00.000000000', '2018-01-03T11:19:00.000000000',\n",
       "       '2018-01-03T11:20:00.000000000', '2018-01-03T11:21:00.000000000',\n",
       "       '2018-01-03T11:22:00.000000000', '2018-01-03T11:23:00.000000000',\n",
       "       '2018-01-03T11:24:00.000000000', '2018-01-03T11:25:00.000000000',\n",
       "       '2018-01-03T11:26:00.000000000', '2018-01-03T11:27:00.000000000',\n",
       "       '2018-01-03T11:28:00.000000000', '2018-01-03T11:29:00.000000000',\n",
       "       '2018-01-03T11:30:00.000000000', '2018-01-03T11:31:00.000000000',\n",
       "       '2018-01-03T11:32:00.000000000', '2018-01-03T11:33:00.000000000',\n",
       "       '2018-01-03T11:34:00.000000000', '2018-01-03T11:35:00.000000000',\n",
       "       '2018-01-03T11:36:00.000000000', '2018-01-03T11:37:00.000000000',\n",
       "       '2018-01-03T11:38:00.000000000', '2018-01-03T11:39:00.000000000',\n",
       "       '2018-01-03T11:40:00.000000000', '2018-01-03T11:41:00.000000000',\n",
       "       '2018-01-03T11:42:00.000000000', '2018-01-03T11:43:00.000000000',\n",
       "       '2018-01-03T11:44:00.000000000', '2018-01-03T11:45:00.000000000',\n",
       "       '2018-01-03T11:46:00.000000000', '2018-01-03T11:47:00.000000000',\n",
       "       '2018-01-03T11:48:00.000000000', '2018-01-03T11:49:00.000000000',\n",
       "       '2018-01-03T11:50:00.000000000', '2018-01-03T11:51:00.000000000',\n",
       "       '2018-01-03T11:52:00.000000000', '2018-01-03T11:53:00.000000000',\n",
       "       '2018-01-03T11:54:00.000000000', '2018-01-03T11:55:00.000000000',\n",
       "       '2018-01-03T11:56:00.000000000', '2018-01-03T11:57:00.000000000',\n",
       "       '2018-01-03T11:58:00.000000000', '2018-01-03T11:59:00.000000000',\n",
       "       '2018-01-03T12:00:00.000000000', '2018-01-03T12:01:00.000000000',\n",
       "       '2018-01-03T12:02:00.000000000', '2018-01-03T12:03:00.000000000',\n",
       "       '2018-01-03T12:04:00.000000000', '2018-01-03T12:05:00.000000000',\n",
       "       '2018-01-03T12:06:00.000000000', '2018-01-03T12:07:00.000000000',\n",
       "       '2018-01-03T12:08:00.000000000', '2018-01-03T12:09:00.000000000',\n",
       "       '2018-01-03T12:10:00.000000000', '2018-01-03T12:11:00.000000000',\n",
       "       '2018-01-03T12:12:00.000000000', '2018-01-03T12:13:00.000000000',\n",
       "       '2018-01-03T12:14:00.000000000', '2018-01-03T12:15:00.000000000',\n",
       "       '2018-01-03T12:16:00.000000000', '2018-01-03T12:17:00.000000000',\n",
       "       '2018-01-03T12:18:00.000000000', '2018-01-03T12:19:00.000000000',\n",
       "       '2018-01-03T12:20:00.000000000', '2018-01-03T12:21:00.000000000',\n",
       "       '2018-01-03T12:22:00.000000000', '2018-01-03T12:23:00.000000000',\n",
       "       '2018-01-03T12:24:00.000000000', '2018-01-03T12:25:00.000000000',\n",
       "       '2018-01-03T12:26:00.000000000', '2018-01-03T12:27:00.000000000',\n",
       "       '2018-01-03T12:28:00.000000000', '2018-01-03T12:29:00.000000000',\n",
       "       '2018-01-03T12:30:00.000000000', '2018-01-03T12:31:00.000000000',\n",
       "       '2018-01-03T12:32:00.000000000', '2018-01-03T12:33:00.000000000',\n",
       "       '2018-01-03T12:34:00.000000000', '2018-01-03T12:35:00.000000000',\n",
       "       '2018-01-03T12:36:00.000000000', '2018-01-03T12:37:00.000000000',\n",
       "       '2018-01-03T12:38:00.000000000', '2018-01-03T12:39:00.000000000',\n",
       "       '2018-01-03T12:40:00.000000000', '2018-01-03T12:41:00.000000000',\n",
       "       '2018-01-03T12:42:00.000000000', '2018-01-03T12:43:00.000000000',\n",
       "       '2018-01-03T12:44:00.000000000', '2018-01-03T12:45:00.000000000',\n",
       "       '2018-01-03T12:46:00.000000000', '2018-01-03T12:47:00.000000000',\n",
       "       '2018-01-03T12:48:00.000000000', '2018-01-03T12:49:00.000000000',\n",
       "       '2018-01-03T12:50:00.000000000', '2018-01-03T12:51:00.000000000',\n",
       "       '2018-01-03T12:52:00.000000000', '2018-01-03T12:53:00.000000000',\n",
       "       '2018-01-03T12:54:00.000000000', '2018-01-03T12:55:00.000000000',\n",
       "       '2018-01-03T12:56:00.000000000', '2018-01-03T12:57:00.000000000',\n",
       "       '2018-01-03T12:58:00.000000000', '2018-01-03T12:59:00.000000000',\n",
       "       '2018-01-03T13:00:00.000000000', '2018-01-03T13:01:00.000000000',\n",
       "       '2018-01-03T13:02:00.000000000', '2018-01-03T13:03:00.000000000',\n",
       "       '2018-01-03T13:04:00.000000000', '2018-01-03T13:05:00.000000000',\n",
       "       '2018-01-03T13:06:00.000000000', '2018-01-03T13:07:00.000000000',\n",
       "       '2018-01-03T13:08:00.000000000', '2018-01-03T13:09:00.000000000',\n",
       "       '2018-01-03T13:10:00.000000000', '2018-01-03T13:11:00.000000000',\n",
       "       '2018-01-03T13:12:00.000000000', '2018-01-03T13:13:00.000000000',\n",
       "       '2018-01-03T13:14:00.000000000', '2018-01-03T13:15:00.000000000',\n",
       "       '2018-01-03T13:16:00.000000000', '2018-01-03T13:17:00.000000000',\n",
       "       '2018-01-03T13:18:00.000000000', '2018-01-03T13:19:00.000000000',\n",
       "       '2018-01-03T13:20:00.000000000', '2018-01-03T13:21:00.000000000',\n",
       "       '2018-01-03T13:22:00.000000000', '2018-01-03T13:23:00.000000000',\n",
       "       '2018-01-03T13:24:00.000000000', '2018-01-03T13:25:00.000000000',\n",
       "       '2018-01-03T13:26:00.000000000', '2018-01-03T13:27:00.000000000',\n",
       "       '2018-01-03T13:28:00.000000000', '2018-01-03T13:29:00.000000000',\n",
       "       '2018-01-03T13:30:00.000000000', '2018-01-03T13:31:00.000000000',\n",
       "       '2018-01-03T13:32:00.000000000', '2018-01-03T13:33:00.000000000',\n",
       "       '2018-01-03T13:34:00.000000000', '2018-01-03T13:35:00.000000000',\n",
       "       '2018-01-03T13:36:00.000000000', '2018-01-03T13:37:00.000000000',\n",
       "       '2018-01-03T13:38:00.000000000', '2018-01-03T13:39:00.000000000',\n",
       "       '2018-01-03T13:40:00.000000000', '2018-01-03T13:41:00.000000000',\n",
       "       '2018-01-03T13:42:00.000000000', '2018-01-03T13:43:00.000000000',\n",
       "       '2018-01-03T13:44:00.000000000', '2018-01-03T13:45:00.000000000'], dtype='datetime64[ns]'), y=array([1211, 1211, 1211, 1211, 1211, 1211, 1211, 1211, 1211, 1211, 1211,\n",
       "       1211, 1211, 1211, 1211, 1211, 1211, 1211, 1211, 1211, 1211, 1211,\n",
       "       1211, 1211, 1211, 1211, 1211, 1211, 1211, 1211, 1211, 1211, 1211,\n",
       "       1211, 1211, 1211, 1211, 1211, 1211, 1211, 1211, 1211, 1211, 1211,\n",
       "       1211, 1211, 1211, 1211, 1211, 1211, 1211, 1211, 1211, 1211, 1211,\n",
       "       1211, 1211, 1211, 1211, 1211, 1211, 1211, 1211, 1211, 1211, 1211,\n",
       "       1211, 1211, 1211, 1211, 1211, 1211, 1211, 1211, 1211, 1211, 1211,\n",
       "       1211, 1211, 1211, 1211, 1211, 1211, 1211, 1211, 1211, 1211, 1211,\n",
       "       1211, 1211, 1211, 1211, 1211, 1211, 1211, 1211, 1211, 1211, 1211,\n",
       "       1211, 1211, 1211, 1211, 1211, 1211, 1211, 1211, 1211, 1211, 1211,\n",
       "       1211, 1211, 1211, 1211, 1211, 1211, 1211, 1211, 1211, 1211, 1211,\n",
       "       1211, 1211, 1211, 1211, 1211, 1211, 1211, 1211, 1211, 1211, 1211,\n",
       "       1211, 1211, 1211, 1211, 1211, 1211, 1211, 1211, 1211, 1211, 1211,\n",
       "       1211, 1211, 1211, 1211, 1211, 1211, 1211, 1211, 1211, 1211, 1211,\n",
       "       1211, 1211, 1211, 1211, 1211, 1211, 1211, 1211, 1211, 1211, 1211,\n",
       "       1211, 1211, 1211, 1211, 1211, 1211, 1211, 1211, 1211, 1211, 1211,\n",
       "       1211, 1211, 1211, 1211, 1211, 1211, 1211, 1211, 1211, 1211, 1211,\n",
       "       1211, 1211, 1211, 1211, 1211, 1211, 1211, 1211, 1211, 1211, 1211,\n",
       "       1211, 1211, 1211, 1211, 1211, 1211, 1211, 1211, 1211, 1211, 1211,\n",
       "       1211, 1211, 1211, 1211, 1211, 1211, 1211, 1211, 1211, 1211, 1211,\n",
       "       1211, 1211, 1211, 1211, 1211, 1211, 1211, 1211, 1211, 1211, 1211,\n",
       "       1211, 1211, 1211, 1211, 1211, 1211, 1211, 1211, 1211, 1211, 1211,\n",
       "       1211, 1211, 1211, 1211, 1211, 1211, 1211, 1211, 1211, 1211, 1211,\n",
       "       1211, 1211, 1211, 1211, 1211, 1211, 1211, 1211, 1211, 1211, 1211,\n",
       "       1211, 1211, 1211, 1211, 1211, 1211, 1211, 1211, 1211, 1211, 1211,\n",
       "       1211, 1211, 1211, 1211, 1211, 1211, 1211, 1211, 1211, 1211, 1211,\n",
       "       1211, 1211, 1211, 1211, 1211, 1211, 1211, 1211, 1211, 1211, 1211,\n",
       "       1211, 1211, 1211]))], scale_x=LinearScale(allow_padding=False, max=1.0, min=0.0), scale_y=LinearScale(allow_padding=False, max=1.0, min=0.0), title='2018-01-03')"
      ]
     },
     "metadata": {},
     "output_type": "display_data"
    }
   ],
   "source": [
    "fig"
   ]
  },
  {
   "cell_type": "code",
   "execution_count": 523,
   "metadata": {
    "collapsed": true
   },
   "outputs": [],
   "source": [
    "#bq.Lines(x=data_vol.index.values, y=np.ones_like(data_vol.values)*excepts[0], scales={'x': sc_x, 'y': sc_y_user})"
   ]
  },
  {
   "cell_type": "code",
   "execution_count": 455,
   "metadata": {
    "collapsed": true
   },
   "outputs": [],
   "source": [
    "start_d = '2018-01-03'\n",
    "df_session = df_timeseties[start_d]\n",
    "data_user = df_session['NVL(B.CNT,0)'].dropna()\n",
    "data_vol = df_session['VOL']\n",
    "data_volma = df_session['VOLMA']\n",
    "excepts = df_session.dropna(subset=['EXCEPT'])['VOL']\n",
    "line.x = data_vol.index.values\n",
    "line.y = data_vol.values\n",
    "linema.x = data_volma.index.values\n",
    "linema.y = data_volma.values\n",
    "scatter.x = data_user.index.values\n",
    "scatter.y = data_user.values\n",
    "scatter_event.x = excepts.index.values\n",
    "scatter_event.y = excepts.values\n",
    "fig.title = start_d"
   ]
  },
  {
   "cell_type": "code",
   "execution_count": 430,
   "metadata": {
    "collapsed": true
   },
   "outputs": [],
   "source": [
    "fig.animation_duration = 1000"
   ]
  },
  {
   "cell_type": "code",
   "execution_count": null,
   "metadata": {
    "collapsed": true
   },
   "outputs": [],
   "source": []
  }
 ],
 "metadata": {
  "kernelspec": {
   "display_name": "Python 3",
   "language": "python",
   "name": "python3"
  },
  "language_info": {
   "codemirror_mode": {
    "name": "ipython",
    "version": 3
   },
   "file_extension": ".py",
   "mimetype": "text/x-python",
   "name": "python",
   "nbconvert_exporter": "python",
   "pygments_lexer": "ipython3",
   "version": "3.6.0"
  }
 },
 "nbformat": 4,
 "nbformat_minor": 2
}
